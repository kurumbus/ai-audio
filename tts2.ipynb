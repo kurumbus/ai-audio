{
 "nbformat": 4,
 "nbformat_minor": 0,
 "metadata": {
  "colab": {
   "provenance": [],
   "machine_shape": "hm",
   "gpuType": "A100",
   "mount_file_id": "1nEmf9uh6aov4lkFvOZdEDx2GGS6C9huv",
   "authorship_tag": "ABX9TyMGKdAXGy/M8UdxFQH4hc41"
  },
  "kernelspec": {
   "name": "python3",
   "display_name": "Python 3 (ipykernel)",
   "language": "python"
  },
  "language_info": {
   "name": "python"
  },
  "accelerator": "GPU"
 },
 "cells": [
  {
   "cell_type": "code",
   "metadata": {
    "colab": {
     "base_uri": "https://localhost:8080/",
     "height": 537
    },
    "id": "MSFq9v4DQsw2",
    "outputId": "51203e96-849b-47bb-e1c7-4f4948e7a804",
    "ExecuteTime": {
     "end_time": "2024-08-28T03:18:59.893913Z",
     "start_time": "2024-08-28T03:16:43.352499Z"
    }
   },
   "source": [
    "import numpy\n",
    "\n",
    "from TTS.api import TTS\n",
    "\n",
    "\n",
    "tts = TTS(\"tts_models/multilingual/multi-dataset/xtts_v2\", gpu=False)\n",
    "\n",
    "# generate speech by cloning a voice using default settings\n",
    "tts.tts_to_file(text=\"我叫 格里戈里，我是最有经验的人工智能专家\",\n",
    "               file_path=\"./content/output_greg_zh.wav\",\n",
    "               speaker_wav=\"./content/audio.wav\",\n",
    "               language=\"zh-cn\")"
   ],
   "outputs": [
    {
     "name": "stdout",
     "output_type": "stream",
     "text": [
      " > tts_models/multilingual/multi-dataset/xtts_v2 is already downloaded.\n",
      " > Using model: xtts\n"
     ]
    },
    {
     "name": "stderr",
     "output_type": "stream",
     "text": [
      "C:\\code\\audio\\ai-audio\\.venv\\Lib\\site-packages\\TTS\\tts\\layers\\xtts\\xtts_manager.py:5: FutureWarning: You are using `torch.load` with `weights_only=False` (the current default value), which uses the default pickle module implicitly. It is possible to construct malicious pickle data which will execute arbitrary code during unpickling (See https://github.com/pytorch/pytorch/blob/main/SECURITY.md#untrusted-models for more details). In a future release, the default value for `weights_only` will be flipped to `True`. This limits the functions that could be executed during unpickling. Arbitrary objects will no longer be allowed to be loaded via this mode unless they are explicitly allowlisted by the user via `torch.serialization.add_safe_globals`. We recommend you start setting `weights_only=True` for any use case where you don't have full control of the loaded file. Please open an issue on GitHub for any issues related to this experimental feature.\n",
      "  self.speakers = torch.load(speaker_file_path)\n",
      "C:\\code\\audio\\ai-audio\\.venv\\Lib\\site-packages\\TTS\\utils\\io.py:54: FutureWarning: You are using `torch.load` with `weights_only=False` (the current default value), which uses the default pickle module implicitly. It is possible to construct malicious pickle data which will execute arbitrary code during unpickling (See https://github.com/pytorch/pytorch/blob/main/SECURITY.md#untrusted-models for more details). In a future release, the default value for `weights_only` will be flipped to `True`. This limits the functions that could be executed during unpickling. Arbitrary objects will no longer be allowed to be loaded via this mode unless they are explicitly allowlisted by the user via `torch.serialization.add_safe_globals`. We recommend you start setting `weights_only=True` for any use case where you don't have full control of the loaded file. Please open an issue on GitHub for any issues related to this experimental feature.\n",
      "  return torch.load(f, map_location=map_location, **kwargs)\n"
     ]
    },
    {
     "name": "stdout",
     "output_type": "stream",
     "text": [
      " > Text splitted to sentences.\n",
      "['我叫 格里戈里，我是最有经验的人工智能专家']\n"
     ]
    },
    {
     "name": "stderr",
     "output_type": "stream",
     "text": [
      "The attention mask is not set and cannot be inferred from input because pad token is same as eos token. As a consequence, you may observe unexpected behavior. Please pass your input's `attention_mask` to obtain reliable results.\n"
     ]
    },
    {
     "name": "stdout",
     "output_type": "stream",
     "text": [
      " > Processing time: 77.93735980987549\n",
      " > Real-time factor: 14.71939481814234\n"
     ]
    },
    {
     "data": {
      "text/plain": [
       "'./content/output_greg_zh.wav'"
      ]
     },
     "execution_count": 1,
     "metadata": {},
     "output_type": "execute_result"
    }
   ],
   "execution_count": 1
  },
  {
   "metadata": {
    "ExecuteTime": {
     "end_time": "2024-08-28T03:20:50.981794Z",
     "start_time": "2024-08-28T03:19:00.009313Z"
    }
   },
   "cell_type": "code",
   "source": [
    "import numpy\n",
    "\n",
    "from TTS.api import TTS\n",
    "\n",
    "\n",
    "tts = TTS(\"tts_models/multilingual/multi-dataset/xtts_v2\", gpu=False)\n",
    "\n",
    "# generate speech by cloning a voice using default settings\n",
    "tts.tts_to_file(text=\"اسمي غريغوري وأنا خبير الذكاء الاصطناعي الأكثر خبرة\",\n",
    "               file_path=\"./content/output_greg_ar.wav\",\n",
    "               speaker_wav=\"./content/audio.wav\",\n",
    "               language=\"ar\")"
   ],
   "outputs": [
    {
     "name": "stdout",
     "output_type": "stream",
     "text": [
      " > tts_models/multilingual/multi-dataset/xtts_v2 is already downloaded.\n",
      " > Using model: xtts\n",
      " > Text splitted to sentences.\n",
      "['اسمي غريغوري وأنا خبير الذكاء الاصطناعي الأكثر خبرة']\n",
      " > Processing time: 71.20988988876343\n",
      " > Real-time factor: 13.048282077243996\n"
     ]
    },
    {
     "data": {
      "text/plain": [
       "'./content/output_greg_ar.wav'"
      ]
     },
     "execution_count": 2,
     "metadata": {},
     "output_type": "execute_result"
    }
   ],
   "execution_count": 2
  },
  {
   "metadata": {
    "ExecuteTime": {
     "end_time": "2024-08-28T03:22:54.119816Z",
     "start_time": "2024-08-28T03:20:51.377438Z"
    }
   },
   "cell_type": "code",
   "source": [
    "import numpy\n",
    "\n",
    "from TTS.api import TTS\n",
    "\n",
    "\n",
    "tts = TTS(\"tts_models/multilingual/multi-dataset/xtts_v2\", gpu=False)\n",
    "\n",
    "# generate speech by cloning a voice using default settings\n",
    "tts.tts_to_file(text=\"मेरा नाम ग्रिगोरी है और मैं सबसे अनुभवी कृत्रिम बुद्धिमत्ता विशेषज्ञ हूं\",\n",
    "               file_path=\"./content/output_greg_hi.wav\",\n",
    "               speaker_wav=\"./content/audio.wav\",\n",
    "               language=\"hi\")"
   ],
   "outputs": [
    {
     "name": "stdout",
     "output_type": "stream",
     "text": [
      " > tts_models/multilingual/multi-dataset/xtts_v2 is already downloaded.\n",
      " > Using model: xtts\n",
      " > Text splitted to sentences.\n",
      "['मेरा नाम ग्रिगोरी है और मैं सबसे अनुभवी कृत्रिम बुद्धिमत्ता विशेषज्ञ हूं']\n",
      " > Processing time: 85.45675945281982\n",
      " > Real-time factor: 11.590404155193124\n"
     ]
    },
    {
     "data": {
      "text/plain": [
       "'./content/output_greg_hi.wav'"
      ]
     },
     "execution_count": 3,
     "metadata": {},
     "output_type": "execute_result"
    }
   ],
   "execution_count": 3
  },
  {
   "metadata": {
    "ExecuteTime": {
     "end_time": "2024-08-28T03:24:36.801882Z",
     "start_time": "2024-08-28T03:22:54.497014Z"
    }
   },
   "cell_type": "code",
   "source": [
    "import numpy\n",
    "\n",
    "from TTS.api import TTS\n",
    "\n",
    "\n",
    "tts = TTS(\"tts_models/multilingual/multi-dataset/xtts_v2\", gpu=False)\n",
    "\n",
    "# generate speech by cloning a voice using default settings\n",
    "tts.tts_to_file(text=\"Меня зовут Григорий и я опытнейший эксперт по искусственному интеллекту.\",\n",
    "               file_path=\"./content/output_greg_ru.wav\",\n",
    "               speaker_wav=\"./content/audio.wav\",\n",
    "               language=\"ru\")"
   ],
   "outputs": [
    {
     "name": "stdout",
     "output_type": "stream",
     "text": [
      " > tts_models/multilingual/multi-dataset/xtts_v2 is already downloaded.\n",
      " > Using model: xtts\n",
      " > Text splitted to sentences.\n",
      "['Меня зовут Григорий и я опытнейший эксперт по искусственному интеллекту.']\n",
      " > Processing time: 65.2357850074768\n",
      " > Real-time factor: 14.51688458153221\n"
     ]
    },
    {
     "data": {
      "text/plain": [
       "'./content/output_greg_ru.wav'"
      ]
     },
     "execution_count": 4,
     "metadata": {},
     "output_type": "execute_result"
    }
   ],
   "execution_count": 4
  },
  {
   "metadata": {
    "ExecuteTime": {
     "end_time": "2024-08-28T03:26:20.774473Z",
     "start_time": "2024-08-28T03:24:36.824895Z"
    }
   },
   "cell_type": "code",
   "source": [
    "import numpy\n",
    "\n",
    "from TTS.api import TTS\n",
    "\n",
    "\n",
    "tts = TTS(\"tts_models/multilingual/multi-dataset/xtts_v2\", gpu=False)\n",
    "\n",
    "# generate speech by cloning a voice using default settings\n",
    "tts.tts_to_file(text=\"Mijn naam is Grigory en ik ben de meest ervaren kunstmatige intelligentie-expert.\",\n",
    "               file_path=\"./content/output_greg_nl.wav\",\n",
    "               speaker_wav=\"./content/audio.wav\",\n",
    "               language=\"nl\")"
   ],
   "outputs": [
    {
     "name": "stdout",
     "output_type": "stream",
     "text": [
      " > tts_models/multilingual/multi-dataset/xtts_v2 is already downloaded.\n",
      " > Using model: xtts\n",
      " > Text splitted to sentences.\n",
      "['Mijn naam is Grigory en ik ben de meest ervaren kunstmatige intelligentie-expert.']\n",
      " > Processing time: 65.1142418384552\n",
      " > Real-time factor: 11.731672706709514\n"
     ]
    },
    {
     "data": {
      "text/plain": [
       "'./content/output_greg_nl.wav'"
      ]
     },
     "execution_count": 5,
     "metadata": {},
     "output_type": "execute_result"
    }
   ],
   "execution_count": 5
  },
  {
   "metadata": {
    "ExecuteTime": {
     "end_time": "2024-08-28T03:47:59.497313Z",
     "start_time": "2024-08-28T03:46:02.626854Z"
    }
   },
   "cell_type": "code",
   "source": [
    "import numpy\n",
    "\n",
    "from TTS.api import TTS\n",
    "\n",
    "\n",
    "tts = TTS(\"tts_models/multilingual/multi-dataset/xtts_v2\", gpu=False)\n",
    "\n",
    "# generate speech by cloning a voice using default settings\n",
    "tts.tts_to_file(text=\"私の名前はグリゴリー、最も経験豊富な人工知能の専門家です\",\n",
    "               file_path=\"./content/output_greg_ja.wav\",\n",
    "               speaker_wav=\"./content/audio.wav\",\n",
    "               language=\"ja\")"
   ],
   "outputs": [
    {
     "name": "stdout",
     "output_type": "stream",
     "text": [
      " > tts_models/multilingual/multi-dataset/xtts_v2 is already downloaded.\n",
      " > Using model: xtts\n",
      " > Text splitted to sentences.\n",
      "['私の名前はグリゴリー、最も経験豊富な人工知能の専門家です']\n",
      " > Processing time: 80.36462831497192\n",
      " > Real-time factor: 12.057975328967956\n"
     ]
    },
    {
     "data": {
      "text/plain": [
       "'./content/output_greg_ja.wav'"
      ]
     },
     "execution_count": 11,
     "metadata": {},
     "output_type": "execute_result"
    }
   ],
   "execution_count": 11
  },
  {
   "metadata": {
    "ExecuteTime": {
     "end_time": "2024-08-28T03:46:02.319770Z",
     "start_time": "2024-08-28T03:44:16.446204Z"
    }
   },
   "cell_type": "code",
   "source": [
    "import numpy\n",
    "\n",
    "from TTS.api import TTS\n",
    "\n",
    "\n",
    "tts = TTS(\"tts_models/multilingual/multi-dataset/xtts_v2\", gpu=False)\n",
    "\n",
    "# generate speech by cloning a voice using default settings\n",
    "tts.tts_to_file(text=\"제 이름은 Grigory이고 가장 경험이 풍부한 인공지능 전문가입니다.\",\n",
    "               file_path=\"./content/output_greg_ko.wav\",\n",
    "               speaker_wav=\"./content/audio.wav\",\n",
    "               language=\"ko\")"
   ],
   "outputs": [
    {
     "name": "stdout",
     "output_type": "stream",
     "text": [
      " > tts_models/multilingual/multi-dataset/xtts_v2 is already downloaded.\n",
      " > Using model: xtts\n",
      " > Text splitted to sentences.\n",
      "['제 이름은 Grigory이고 가장 경험이 풍부한 인공지능 전문가입니다.']\n",
      " > Processing time: 74.01569247245789\n",
      " > Real-time factor: 11.444280959116574\n"
     ]
    },
    {
     "data": {
      "text/plain": [
       "'./content/output_greg_ko.wav'"
      ]
     },
     "execution_count": 10,
     "metadata": {},
     "output_type": "execute_result"
    }
   ],
   "execution_count": 10
  },
  {
   "metadata": {
    "ExecuteTime": {
     "end_time": "2024-08-28T03:35:09.214815Z",
     "start_time": "2024-08-28T03:34:09.656478Z"
    }
   },
   "cell_type": "code",
   "source": [
    "import numpy\n",
    "\n",
    "from TTS.api import TTS\n",
    "\n",
    "\n",
    "tts = TTS(\"tts_models/multilingual/multi-dataset/xtts_v2\", gpu=False)\n",
    "\n",
    "# generate speech by cloning a voice using default settings\n",
    "tts.tts_to_file(text=\"Adım Grigory ve en deneyimli yapay zeka uzmanıyım\",\n",
    "               file_path=\"./content/output_greg_tr.wav\",\n",
    "               speaker_wav=\"./content/audio.wav\",\n",
    "               language=\"tr\")"
   ],
   "outputs": [
    {
     "name": "stdout",
     "output_type": "stream",
     "text": [
      " > tts_models/multilingual/multi-dataset/xtts_v2 is already downloaded.\n",
      " > Using model: xtts\n",
      " > Text splitted to sentences.\n",
      "['Adım Grigory ve en deneyimli yapay zeka uzmanıyım']\n",
      " > Processing time: 33.76236081123352\n",
      " > Real-time factor: 7.77422781837614\n"
     ]
    },
    {
     "data": {
      "text/plain": [
       "'./content/output_greg_tr.wav'"
      ]
     },
     "execution_count": 9,
     "metadata": {},
     "output_type": "execute_result"
    }
   ],
   "execution_count": 9
  }
 ]
}
